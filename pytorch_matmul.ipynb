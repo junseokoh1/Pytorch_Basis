{
  "nbformat": 4,
  "nbformat_minor": 0,
  "metadata": {
    "colab": {
      "name": "pytorch matmul.ipynb",
      "provenance": [],
      "collapsed_sections": []
    },
    "kernelspec": {
      "name": "python3",
      "display_name": "Python 3"
    },
    "language_info": {
      "name": "python"
    }
  },
  "cells": [
    {
      "cell_type": "markdown",
      "metadata": {
        "id": "m79yrsSvMa9m"
      },
      "source": [
        "torch.mm\n",
        "\n",
        "torch.bmm\n",
        "\n",
        "torch.matmul\n",
        "\n",
        "torch.dot\n",
        "\n",
        "'*' 연산"
      ]
    },
    {
      "cell_type": "code",
      "metadata": {
        "id": "R9k-NzigIheM"
      },
      "source": [
        "import math\n",
        "import torch\n",
        "import torch.nn as nn\n",
        "import torch.nn.functional as F"
      ],
      "execution_count": 1,
      "outputs": []
    },
    {
      "cell_type": "markdown",
      "metadata": {
        "id": "pQYwkzJoVa6L"
      },
      "source": [
        "# '*' 연산"
      ]
    },
    {
      "cell_type": "code",
      "metadata": {
        "colab": {
          "base_uri": "https://localhost:8080/"
        },
        "id": "9Pc12-XVIbyk",
        "outputId": "5f367934-7058-4bfc-e1bc-f2185c117dfc"
      },
      "source": [
        "position = torch.arange(0, 10).unsqueeze(1)\n",
        "print(position.shape)\n",
        "#print(position)\n",
        "div_term = torch.FloatTensor(2)\n",
        "print(div_term.shape)\n",
        "c = position * div_term\n",
        "print(c.shape)\n",
        "c"
      ],
      "execution_count": 9,
      "outputs": [
        {
          "output_type": "stream",
          "text": [
            "torch.Size([10, 1])\n",
            "torch.Size([2])\n",
            "torch.Size([10, 2])\n"
          ],
          "name": "stdout"
        },
        {
          "output_type": "execute_result",
          "data": {
            "text/plain": [
              "tensor([[-0.0000e+00,  0.0000e+00],\n",
              "        [-8.5910e-07,  3.0721e-41],\n",
              "        [-1.7182e-06,  6.1441e-41],\n",
              "        [-2.5773e-06,  9.2162e-41],\n",
              "        [-3.4364e-06,  1.2288e-40],\n",
              "        [-4.2955e-06,  1.5360e-40],\n",
              "        [-5.1546e-06,  1.8432e-40],\n",
              "        [-6.0137e-06,  2.1504e-40],\n",
              "        [-6.8728e-06,  2.4577e-40],\n",
              "        [-7.7319e-06,  2.7649e-40]])"
            ]
          },
          "metadata": {
            "tags": []
          },
          "execution_count": 9
        }
      ]
    },
    {
      "cell_type": "code",
      "metadata": {
        "id": "gJw2UhxcKMNI"
      },
      "source": [
        "x = torch.FloatTensor(30, 16, 5"
      ],
      "execution_count": null,
      "outputs": []
    },
    {
      "cell_type": "markdown",
      "metadata": {
        "id": "hgPBqXF5NAJn"
      },
      "source": [
        "# torch.mm\n",
        "\n",
        "mm은 matrix multiplication으로, [n, m] x [m,p] = [n,p] 를 구현한다.\n",
        "\n",
        "torch.matmul과 차이점은 broadcast가 안 된다는 점이다.\n",
        "\n",
        "dim 무조건 맞춰야 됨!!!\n"
      ]
    },
    {
      "cell_type": "code",
      "metadata": {
        "colab": {
          "base_uri": "https://localhost:8080/"
        },
        "id": "s-8c65zIOgeW",
        "outputId": "2b0e2a37-9ce0-4ea4-c3d2-fd9c75ab45f0"
      },
      "source": [
        "mat1 = torch.randn(2, 3)\n",
        "mat2 = torch.randn(3, 3)\n",
        "torch.mm(mat1, mat2)"
      ],
      "execution_count": 16,
      "outputs": [
        {
          "output_type": "execute_result",
          "data": {
            "text/plain": [
              "tensor([[ 0.0623, -1.6126, -0.1580],\n",
              "        [-4.3794,  2.3617,  0.7619]])"
            ]
          },
          "metadata": {
            "tags": []
          },
          "execution_count": 16
        }
      ]
    },
    {
      "cell_type": "markdown",
      "metadata": {
        "id": "J8JQ629POntm"
      },
      "source": [
        "# torch.bmm\n",
        "\n",
        "broadcast 지원 x\n",
        "\n",
        "input and mat2 must be 3-D tensors each containing the same number of matrices."
      ]
    },
    {
      "cell_type": "code",
      "metadata": {
        "colab": {
          "base_uri": "https://localhost:8080/"
        },
        "id": "bjujNg7eOy1x",
        "outputId": "09c5500d-c00f-473b-b0e7-46e9758dd613"
      },
      "source": [
        "#입력 2개의 batch size가 동일해야지만 가능!\n",
        "batchsize = 5\n",
        "mat1 = torch.randn(batchsize, 2, 3)\n",
        "mat2 = torch.randn(batchsize, 3, 3)\n",
        "torch.bmm(mat1, mat2)"
      ],
      "execution_count": 14,
      "outputs": [
        {
          "output_type": "execute_result",
          "data": {
            "text/plain": [
              "tensor([[[ 4.2251,  2.4575, -3.3912],\n",
              "         [ 0.4659,  1.1431, -2.1906]],\n",
              "\n",
              "        [[-0.6381,  0.0573,  1.8721],\n",
              "         [ 0.7174,  1.4686,  2.4662]],\n",
              "\n",
              "        [[-0.3745, -0.1837, -1.2885],\n",
              "         [-1.7367,  4.2769,  0.2947]],\n",
              "\n",
              "        [[-1.6734,  2.5337, -2.6090],\n",
              "         [-3.2169, -0.5292,  1.7518]],\n",
              "\n",
              "        [[ 1.2480, -1.6275, -0.5711],\n",
              "         [ 0.8394, -1.5739,  2.7863]]])"
            ]
          },
          "metadata": {
            "tags": []
          },
          "execution_count": 14
        }
      ]
    },
    {
      "cell_type": "markdown",
      "metadata": {
        "id": "0Xk4sQbZQSdf"
      },
      "source": [
        "# torch.matmul"
      ]
    },
    {
      "cell_type": "code",
      "metadata": {
        "colab": {
          "base_uri": "https://localhost:8080/"
        },
        "id": "OebVvW6-QnwV",
        "outputId": "e457dd86-aef0-4905-d9fc-592d0e5144f5"
      },
      "source": [
        "# both tensors are 1-dimensional, the dot product (scalar) is returned.\n",
        "\n",
        "a = torch.randn(10)\n",
        "b = torch.randn(10)\n",
        "torch.matmul(a,b)"
      ],
      "execution_count": 17,
      "outputs": [
        {
          "output_type": "execute_result",
          "data": {
            "text/plain": [
              "tensor(-6.2479)"
            ]
          },
          "metadata": {
            "tags": []
          },
          "execution_count": 17
        }
      ]
    },
    {
      "cell_type": "markdown",
      "metadata": {
        "id": "X6jFl-naVGP8"
      },
      "source": [
        "--------------------------------------"
      ]
    },
    {
      "cell_type": "code",
      "metadata": {
        "colab": {
          "base_uri": "https://localhost:8080/"
        },
        "id": "WugAYVgsQ0_R",
        "outputId": "9c29b0fc-b7b8-484b-e7a7-e16135e4e311"
      },
      "source": [
        "# both arguments are 2-dimensional, the matrix-matrix product is returned.\n",
        "\n",
        "mat1 = torch.randn(2, 3)\n",
        "mat2 = torch.randn(3, 3)\n",
        "torch.matmul(mat1, mat2)"
      ],
      "execution_count": 21,
      "outputs": [
        {
          "output_type": "execute_result",
          "data": {
            "text/plain": [
              "tensor([[-4.0483, -0.6575, -1.9530],\n",
              "        [ 0.2225,  0.2905, -0.0356]])"
            ]
          },
          "metadata": {
            "tags": []
          },
          "execution_count": 21
        }
      ]
    },
    {
      "cell_type": "markdown",
      "metadata": {
        "id": "b3VrCfnvVFCM"
      },
      "source": [
        "-------------------------------"
      ]
    },
    {
      "cell_type": "code",
      "metadata": {
        "colab": {
          "base_uri": "https://localhost:8080/"
        },
        "id": "r9EOBXfmRAJl",
        "outputId": "e9f0fff2-cb93-42a5-88b8-f6a78847f0f9"
      },
      "source": [
        "# first : 1 dimensional\n",
        "# second : 2 dimensional\n",
        "\n",
        "mat1 = torch.FloatTensor([0,1,2])\n",
        "#mat1 = torch.randn(3)\n",
        "print(\"mat1 : \", mat1.shape, \"\\n\", mat1, '\\n')\n",
        "\n",
        "mat2 = torch.randn(3, 3)\n",
        "print(\"mat1 : \", mat2.shape, \"\\n\", mat2, '\\n')\n",
        "\n",
        "print(\"----------결과-------\")\n",
        "torch.matmul(mat1, mat2)"
      ],
      "execution_count": 38,
      "outputs": [
        {
          "output_type": "stream",
          "text": [
            "mat1 :  torch.Size([3]) \n",
            " tensor([0., 1., 2.]) \n",
            "\n",
            "mat1 :  torch.Size([3, 3]) \n",
            " tensor([[-0.1570,  1.2064,  0.7127],\n",
            "        [-1.1103,  2.0451, -0.1634],\n",
            "        [-1.6100,  1.2194,  1.1063]]) \n",
            "\n",
            "----------결과-------\n"
          ],
          "name": "stdout"
        },
        {
          "output_type": "execute_result",
          "data": {
            "text/plain": [
              "tensor([-4.3303,  4.4840,  2.0493])"
            ]
          },
          "metadata": {
            "tags": []
          },
          "execution_count": 38
        }
      ]
    },
    {
      "cell_type": "markdown",
      "metadata": {
        "id": "qKMi5lnOVD-k"
      },
      "source": [
        "-----------------"
      ]
    },
    {
      "cell_type": "code",
      "metadata": {
        "colab": {
          "base_uri": "https://localhost:8080/"
        },
        "id": "ZEp4svjzSz3I",
        "outputId": "e572028b-02e3-43f3-f69e-f0259de8e6b5"
      },
      "source": [
        "# first : 2 dimensional\n",
        "# second : 1 dimensional\n",
        "\n",
        "mat1 = torch.FloatTensor([[1,2,3, 4],[5,6, 7, 8], [9, 10, 11, 12]])\n",
        "print(\"mat1 : \", mat1.shape, \"\\n\", mat1, '\\n')\n",
        "mat2 = torch.FloatTensor([0, 1 ,2, 4])\n",
        "print(\"mat1 : \", mat2.shape, \"\\n\", mat2, '\\n')\n",
        "print(\"----------결과-------\")\n",
        "torch.matmul(mat1, mat2)"
      ],
      "execution_count": 52,
      "outputs": [
        {
          "output_type": "stream",
          "text": [
            "mat1 :  torch.Size([3, 4]) \n",
            " tensor([[ 1.,  2.,  3.,  4.],\n",
            "        [ 5.,  6.,  7.,  8.],\n",
            "        [ 9., 10., 11., 12.]]) \n",
            "\n",
            "mat1 :  torch.Size([4]) \n",
            " tensor([0., 1., 2., 4.]) \n",
            "\n",
            "----------결과-------\n"
          ],
          "name": "stdout"
        },
        {
          "output_type": "execute_result",
          "data": {
            "text/plain": [
              "tensor([24., 52., 80.])"
            ]
          },
          "metadata": {
            "tags": []
          },
          "execution_count": 52
        }
      ]
    },
    {
      "cell_type": "code",
      "metadata": {
        "colab": {
          "base_uri": "https://localhost:8080/"
        },
        "id": "knBrb61aUo0q",
        "outputId": "0b27b28c-7265-44f2-f321-486faea10a0b"
      },
      "source": [
        "# matrix x vector 위에랑 같은 거!\n",
        "tensor1 = torch.randn(3, 4)\n",
        "tensor2 = torch.randn(4)\n",
        "torch.matmul(tensor1, tensor2).size()"
      ],
      "execution_count": 49,
      "outputs": [
        {
          "output_type": "execute_result",
          "data": {
            "text/plain": [
              "torch.Size([3])"
            ]
          },
          "metadata": {
            "tags": []
          },
          "execution_count": 49
        }
      ]
    },
    {
      "cell_type": "code",
      "metadata": {
        "colab": {
          "base_uri": "https://localhost:8080/",
          "height": 213
        },
        "id": "Ks0E52CdWc2Q",
        "outputId": "84c46a86-8479-4404-8fbe-df1795e1f7d4"
      },
      "source": [
        "tensor1 = torch.randn(10, 1)\n",
        "tensor2 = torch.randn(4)\n",
        "torch.matmul(tensor1, tensor2).size()"
      ],
      "execution_count": 64,
      "outputs": [
        {
          "output_type": "error",
          "ename": "RuntimeError",
          "evalue": "ignored",
          "traceback": [
            "\u001b[0;31m---------------------------------------------------------------------------\u001b[0m",
            "\u001b[0;31mRuntimeError\u001b[0m                              Traceback (most recent call last)",
            "\u001b[0;32m<ipython-input-64-b011a55475de>\u001b[0m in \u001b[0;36m<module>\u001b[0;34m()\u001b[0m\n\u001b[1;32m      1\u001b[0m \u001b[0mtensor1\u001b[0m \u001b[0;34m=\u001b[0m \u001b[0mtorch\u001b[0m\u001b[0;34m.\u001b[0m\u001b[0mrandn\u001b[0m\u001b[0;34m(\u001b[0m\u001b[0;36m10\u001b[0m\u001b[0;34m,\u001b[0m \u001b[0;36m1\u001b[0m\u001b[0;34m)\u001b[0m\u001b[0;34m\u001b[0m\u001b[0;34m\u001b[0m\u001b[0m\n\u001b[1;32m      2\u001b[0m \u001b[0mtensor2\u001b[0m \u001b[0;34m=\u001b[0m \u001b[0mtorch\u001b[0m\u001b[0;34m.\u001b[0m\u001b[0mrandn\u001b[0m\u001b[0;34m(\u001b[0m\u001b[0;36m4\u001b[0m\u001b[0;34m)\u001b[0m\u001b[0;34m\u001b[0m\u001b[0;34m\u001b[0m\u001b[0m\n\u001b[0;32m----> 3\u001b[0;31m \u001b[0mtorch\u001b[0m\u001b[0;34m.\u001b[0m\u001b[0mmatmul\u001b[0m\u001b[0;34m(\u001b[0m\u001b[0mtensor1\u001b[0m\u001b[0;34m,\u001b[0m \u001b[0mtensor2\u001b[0m\u001b[0;34m)\u001b[0m\u001b[0;34m.\u001b[0m\u001b[0msize\u001b[0m\u001b[0;34m(\u001b[0m\u001b[0;34m)\u001b[0m\u001b[0;34m\u001b[0m\u001b[0;34m\u001b[0m\u001b[0m\n\u001b[0m",
            "\u001b[0;31mRuntimeError\u001b[0m: size mismatch, get 10, 10x1,4"
          ]
        }
      ]
    },
    {
      "cell_type": "markdown",
      "metadata": {
        "id": "apLEwAgPVBA6"
      },
      "source": [
        "-------"
      ]
    },
    {
      "cell_type": "code",
      "metadata": {
        "colab": {
          "base_uri": "https://localhost:8080/"
        },
        "id": "eKDMsWiXVCGL",
        "outputId": "9c8bc44b-f3a7-484f-ceab-fb7a735af750"
      },
      "source": [
        "# batched matrix x broadcasted vector\n",
        ">>> tensor1 = torch.randn(10, 3, 4)\n",
        ">>> tensor2 = torch.randn(4)\n",
        ">>> torch.matmul(tensor1, tensor2).size()"
      ],
      "execution_count": 53,
      "outputs": [
        {
          "output_type": "execute_result",
          "data": {
            "text/plain": [
              "torch.Size([10, 3])"
            ]
          },
          "metadata": {
            "tags": []
          },
          "execution_count": 53
        }
      ]
    },
    {
      "cell_type": "markdown",
      "metadata": {
        "id": "kTDVmXALVQkf"
      },
      "source": [
        "------------------"
      ]
    },
    {
      "cell_type": "code",
      "metadata": {
        "colab": {
          "base_uri": "https://localhost:8080/"
        },
        "id": "_T1BeBY2VRmI",
        "outputId": "5dfb88dd-eac8-4211-e3bc-52dbfdbb4fae"
      },
      "source": [
        "# batched matrix x batched matrix\n",
        "tensor1 = torch.randn(10, 3, 4)\n",
        "tensor2 = torch.randn(10, 4, 5)\n",
        "torch.matmul(tensor1, tensor2).size()"
      ],
      "execution_count": 54,
      "outputs": [
        {
          "output_type": "execute_result",
          "data": {
            "text/plain": [
              "torch.Size([10, 3, 5])"
            ]
          },
          "metadata": {
            "tags": []
          },
          "execution_count": 54
        }
      ]
    },
    {
      "cell_type": "markdown",
      "metadata": {
        "id": "VHF3gFQCV0sK"
      },
      "source": [
        "-----------------"
      ]
    },
    {
      "cell_type": "code",
      "metadata": {
        "colab": {
          "base_uri": "https://localhost:8080/"
        },
        "id": "nwqOJ0VwV1n7",
        "outputId": "a2a761c9-724a-48e5-99d1-33b72138755e"
      },
      "source": [
        "# batched matrix x broadcasted matrix\n",
        "tensor1 = torch.randn(10, 3, 4)\n",
        "tensor2 = torch.randn(4, 5)\n",
        "torch.matmul(tensor1, tensor2).size()"
      ],
      "execution_count": 55,
      "outputs": [
        {
          "output_type": "execute_result",
          "data": {
            "text/plain": [
              "torch.Size([10, 3, 5])"
            ]
          },
          "metadata": {
            "tags": []
          },
          "execution_count": 55
        }
      ]
    },
    {
      "cell_type": "markdown",
      "metadata": {
        "id": "Ls8pC7K1WBLL"
      },
      "source": [
        "------------"
      ]
    },
    {
      "cell_type": "code",
      "metadata": {
        "colab": {
          "base_uri": "https://localhost:8080/"
        },
        "id": "_vctU9lEWBsH",
        "outputId": "d65077a1-d761-42c2-a126-6359a2eaa8fc"
      },
      "source": [
        "# [ j x 1 x n x n]           [k x n x n]\n",
        "# output : [j x k x n x n]\n",
        "tensor1 = torch.randn(10, 1, 4, 4)\n",
        "tensor2 = torch.randn(7, 4, 4)\n",
        "torch.matmul(tensor1, tensor2).size()"
      ],
      "execution_count": 57,
      "outputs": [
        {
          "output_type": "execute_result",
          "data": {
            "text/plain": [
              "torch.Size([10, 7, 4, 4])"
            ]
          },
          "metadata": {
            "tags": []
          },
          "execution_count": 57
        }
      ]
    },
    {
      "cell_type": "markdown",
      "metadata": {
        "id": "viuQXfIXW6sp"
      },
      "source": [
        "--------------"
      ]
    },
    {
      "cell_type": "code",
      "metadata": {
        "colab": {
          "base_uri": "https://localhost:8080/"
        },
        "id": "66cGakLlW7sR",
        "outputId": "5715d545-03c6-4fdc-a53f-fa6a38cec0e8"
      },
      "source": [
        "# [j x 1 x n x m]\n",
        "# [k x m x p]\n",
        "# output : [j x k x n x p]\n",
        "tensor1 = torch.randn(10, 1, 5, 6)\n",
        "tensor2 = torch.randn(4, 6, 9)\n",
        "torch.matmul(tensor1, tensor2).size()"
      ],
      "execution_count": 65,
      "outputs": [
        {
          "output_type": "execute_result",
          "data": {
            "text/plain": [
              "torch.Size([10, 4, 5, 9])"
            ]
          },
          "metadata": {
            "tags": []
          },
          "execution_count": 65
        }
      ]
    },
    {
      "cell_type": "markdown",
      "metadata": {
        "id": "pJYxZx3STqg4"
      },
      "source": [
        "# Tensor  생성"
      ]
    },
    {
      "cell_type": "code",
      "metadata": {
        "colab": {
          "base_uri": "https://localhost:8080/"
        },
        "id": "7x3FzgRdTsMa",
        "outputId": "859b5424-6bc7-4c20-f087-3db1dc47f26c"
      },
      "source": [
        "x = torch.IntTensor([[1,2,3],[4,5,6], [7, 8, 9]])    #FloatTensor\n",
        "print(x.shape)\n",
        "x"
      ],
      "execution_count": 46,
      "outputs": [
        {
          "output_type": "stream",
          "text": [
            "torch.Size([3, 3])\n"
          ],
          "name": "stdout"
        },
        {
          "output_type": "execute_result",
          "data": {
            "text/plain": [
              "tensor([[1, 2, 3],\n",
              "        [4, 5, 6],\n",
              "        [7, 8, 9]], dtype=torch.int32)"
            ]
          },
          "metadata": {
            "tags": []
          },
          "execution_count": 46
        }
      ]
    }
  ]
}